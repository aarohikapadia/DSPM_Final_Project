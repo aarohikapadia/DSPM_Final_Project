{
 "cells": [
  {
   "cell_type": "code",
   "execution_count": null,
   "metadata": {},
   "outputs": [],
   "source": [
    "import pandas as pd\n",
    "import numpy as np\n",
    "from sklearn.model_selection import train_test_split\n",
    "from sklearn.preprocessing import LabelEncoder, StandardScaler\n",
    "from sklearn.impute import SimpleImputer\n",
    "from sklearn.ensemble import RandomForestClassifier\n",
    "from sklearn.metrics import classification_report, accuracy_score"
   ]
  },
  {
   "cell_type": "code",
   "execution_count": null,
   "metadata": {},
   "outputs": [],
   "source": [
    "data = pd.read_excel('DDS9_Data_Extract_with_labels.xlsx')"
   ]
  },
  {
   "cell_type": "markdown",
   "metadata": {},
   "source": [
    "Data Pre-Processing"
   ]
  },
  {
   "cell_type": "code",
   "execution_count": null,
   "metadata": {},
   "outputs": [],
   "source": [
    "target = 'Q39r4 - I would be willing to view advertising with my streaming video programming if it significantly reduced the cost of the subscription. - Using the scale below, please indicate how much you agree or disagree with the following statements. If the quest'\n",
    "\n",
    "features = [\n",
    "    'Q8 - Which of the following media or home entertainment equipment does your household own?-Smartphone (three to five inches)',\n",
    "    'Q8 - Which of the following media or home entertainment equipment does your household own?-Large smartphone (between five and seven inches)',\n",
    "    'Q8 - Which of the following media or home entertainment equipment does your household own?-Basic mobile phone (not a smartphone)']\n",
    "\n",
    "wtp_mapping = {\n",
    "    'Agree strongly': 1,\n",
    "    'Disagree strongly': 0,\n",
    "}\n",
    "\n",
    "data = data.drop(data[data[target] == 'N/A; I do not have a basis to answer'].index)\n",
    "data = data.drop(data[data[target] == 'Agree somewhat'].index)\n",
    "data = data.drop(data[data[target] == 'Disagree somewhat'].index)\n",
    "\n",
    "data[target] = data[target].map(wtp_mapping)\n",
    "\n",
    "model_data = data[features + [target]]\n",
    "\n",
    "label_encoder = LabelEncoder()\n",
    "for column in model_data.select_dtypes(include=['object']).columns:\n",
    "    model_data[column] = label_encoder.fit_transform(model_data[column])\n",
    "\n",
    "model_data"
   ]
  },
  {
   "cell_type": "markdown",
   "metadata": {},
   "source": [
    "Train Model"
   ]
  },
  {
   "cell_type": "code",
   "execution_count": null,
   "metadata": {},
   "outputs": [],
   "source": [
    "X = model_data[features]\n",
    "y = label_encoder.fit_transform(model_data[target])\n",
    "X_train, X_test, y_train, y_test = train_test_split(X, y, test_size=0.2)\n",
    "\n",
    "scaler = StandardScaler()\n",
    "X_train_scaled = scaler.fit_transform(X_train)\n",
    "X_test_scaled = scaler.transform(X_test)\n",
    "\n",
    "model = RandomForestClassifier()\n",
    "model.fit(X_train_scaled, y_train)\n",
    "\n",
    "y_pred = model.predict(X_test_scaled)\n",
    "accuracy = accuracy_score(y_test, y_pred)\n",
    "report = classification_report(y_test, y_pred)\n",
    "print(\"Accuracy:\", accuracy)\n",
    "print(\"Classification Report:\\n\", report)"
   ]
  },
  {
   "cell_type": "markdown",
   "metadata": {},
   "source": [
    "Data Visualization"
   ]
  },
  {
   "cell_type": "code",
   "execution_count": null,
   "metadata": {},
   "outputs": [],
   "source": [
    "%matplotlib inline\n",
    "import matplotlib.pyplot as plt\n",
    "import seaborn as sns\n",
    "\n",
    "smartphone_basic = 'Q8 - Which of the following media or home entertainment equipment does your household own?-Basic mobile phone (not a smartphone)'\n",
    "smartphone_3to5 = 'Q8 - Which of the following media or home entertainment equipment does your household own?-Smartphone (three to five inches)'\n",
    "smartphone_5to7 = 'Q8 - Which of the following media or home entertainment equipment does your household own?-Large smartphone (between five and seven inches)'\n",
    "ads_column = 'Q39r4 - I would be willing to view advertising with my streaming video programming if it significantly reduced the cost of the subscription. - Using the scale below, please indicate how much you agree or disagree with the following statements. If the quest'\n",
    "\n",
    "smartphone_basic_yes_mean = data[data[smartphone_basic] == 'Yes'][ads_column].mean()\n",
    "smartphone_3to5_yes_mean = data[data[smartphone_3to5] == 'Yes'][ads_column].mean()\n",
    "smartphone_5to7_yes_mean = data[data[smartphone_5to7] == 'Yes'][ads_column].mean()\n",
    "\n",
    "smartphone_basic_yes_mean, smartphone_3to5_yes_mean, smartphone_5to7_yes_mean\n",
    "\n",
    "means = [smartphone_basic_yes_mean, smartphone_3to5_yes_mean, smartphone_5to7_yes_mean]\n",
    "labels = ['Basic Mobile Phone', 'Smartphone (3-5 inches)', 'Large Smartphone (5-7 inches)']\n",
    "\n",
    "plt.figure(figsize=(10, 6))\n",
    "sns.barplot(x=labels, y=means)\n",
    "plt.title('Mean Willingness to Pay for Ad-tier Subscription per Smartphone Type')\n",
    "plt.xlabel('Smartphone Ownership')\n",
    "plt.ylabel('Willingness to Pay')\n",
    "plt.show()\n"
   ]
  }
 ],
 "metadata": {
  "kernelspec": {
   "display_name": "base",
   "language": "python",
   "name": "python3"
  },
  "language_info": {
   "codemirror_mode": {
    "name": "ipython",
    "version": 3
   },
   "file_extension": ".py",
   "mimetype": "text/x-python",
   "name": "python",
   "nbconvert_exporter": "python",
   "pygments_lexer": "ipython3",
   "version": "3.11.7"
  }
 },
 "nbformat": 4,
 "nbformat_minor": 2
}
